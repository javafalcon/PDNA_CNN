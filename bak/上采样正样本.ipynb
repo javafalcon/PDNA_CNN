{
 "cells": [
  {
   "cell_type": "code",
   "execution_count": 1,
   "metadata": {},
   "outputs": [
    {
     "name": "stderr",
     "output_type": "stream",
     "text": [
      "Using TensorFlow backend.\n"
     ]
    }
   ],
   "source": [
    "from imblearn.over_sampling import ADASYN\n",
    "import numpy as np\n",
    "import tensorflow as tf\n",
    "from sklearn.model_selection import KFold"
   ]
  },
  {
   "cell_type": "code",
   "execution_count": 2,
   "metadata": {},
   "outputs": [],
   "source": [
    "data=np.load('PDNA224_HHM_7.npz')\n",
    "row, col = 15, 30\n",
    "x_pos, x_neg = data['pos'], data['neg']\n",
    "x_neg = x_neg.reshape(-1,row*col)\n",
    "x_pos = x_pos.reshape(-1,row*col)"
   ]
  },
  {
   "cell_type": "code",
   "execution_count": 3,
   "metadata": {},
   "outputs": [],
   "source": [
    "n_splits = 10\n",
    "kf = KFold(n_splits=n_splits)\n",
    "kf_x_pos_train, kf_x_pos_test = [],[]\n",
    "for train_index, test_index in kf.split(x_pos):\n",
    "    kf_x_pos_train.append(x_pos[train_index])\n",
    "    kf_x_pos_test.append(x_pos[test_index])"
   ]
  },
  {
   "cell_type": "code",
   "execution_count": 11,
   "metadata": {},
   "outputs": [],
   "source": [
    "kf_x_neg_train, kf_x_neg_test = [],[]\n",
    "for train_index, test_index in kf.split(x_neg):\n",
    "    kf_x_neg_train.append(x_neg[train_index])\n",
    "    kf_x_neg_test.append(x_neg[test_index])"
   ]
  },
  {
   "cell_type": "code",
   "execution_count": 12,
   "metadata": {},
   "outputs": [
    {
     "name": "stdout",
     "output_type": "stream",
     "text": [
      "0\n",
      "1\n",
      "2\n",
      "3\n",
      "4\n",
      "5\n",
      "6\n",
      "7\n",
      "8\n",
      "9\n"
     ]
    }
   ],
   "source": [
    "adasyn = ADASYN()\n",
    "kf_x_train, kf_y_train = [],[]\n",
    "kf_x_test, kf_y_test = [],[]\n",
    "for i in range(n_splits):\n",
    "    print(i)\n",
    "    x = np.concatenate((kf_x_pos_train[i], kf_x_neg_train[i]))\n",
    "    y = np.zeros( (len(x),))\n",
    "    y[len(kf_x_pos_train[i]):] = 1\n",
    "    x_as, y_as = adasyn.fit_resample(x,y)\n",
    "    x_as = x_as.reshape(-1, row, col)\n",
    "    y_as = tf.keras.utils.to_categorical(y_as, num_classes=2)\n",
    "    kf_x_train.append(x_as)\n",
    "    kf_y_train.append(y_as)\n",
    "    \n",
    "    x = np.concatenate((kf_x_pos_test[i], kf_x_neg_test[i]))\n",
    "    y = np.zeros((len(x),))\n",
    "    y[len(kf_x_pos_test[i]):] = 1\n",
    "    y = tf.keras.utils.to_categorical(y, num_classes=2)\n",
    "    x = x.reshape(-1, row, col)\n",
    "    kf_x_test.append(x)\n",
    "    kf_y_test.append(y)\n",
    "\n",
    "np.savez('PDNA224_HHM_7_kfold10_resampling.npz',x_train=kf_x_train, \n",
    "        y_train=kf_y_train, x_test=kf_x_test, y_test=kf_y_test)"
   ]
  },
  {
   "cell_type": "code",
   "execution_count": null,
   "metadata": {},
   "outputs": [],
   "source": []
  }
 ],
 "metadata": {
  "kernelspec": {
   "display_name": "Python [conda env:tf-gpu] *",
   "language": "python",
   "name": "conda-env-tf-gpu-py"
  },
  "language_info": {
   "codemirror_mode": {
    "name": "ipython",
    "version": 3
   },
   "file_extension": ".py",
   "mimetype": "text/x-python",
   "name": "python",
   "nbconvert_exporter": "python",
   "pygments_lexer": "ipython3",
   "version": "3.7.5"
  },
  "toc": {
   "base_numbering": 1,
   "nav_menu": {},
   "number_sections": true,
   "sideBar": true,
   "skip_h1_title": false,
   "title_cell": "Table of Contents",
   "title_sidebar": "Contents",
   "toc_cell": false,
   "toc_position": {},
   "toc_section_display": true,
   "toc_window_display": false
  }
 },
 "nbformat": 4,
 "nbformat_minor": 2
}
