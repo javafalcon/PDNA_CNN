{
 "cells": [
  {
   "cell_type": "markdown",
   "metadata": {},
   "source": [
    "# 导入包、定义函数"
   ]
  },
  {
   "cell_type": "code",
   "execution_count": 1,
   "metadata": {},
   "outputs": [],
   "source": [
    "import numpy as np\n",
    "import re\n",
    "import tensorflow as tf\n",
    "from tensorflow import keras\n",
    "from tensorflow.keras import backend as K\n",
    "from tensorflow.keras import layers\n",
    "from sklearn.utils import shuffle\n",
    "from sklearn import metrics\n",
    "from sites_transformer import Encoder, create_padding_mask\n",
    "from tools import plot_history"
   ]
  },
  {
   "cell_type": "code",
   "execution_count": 2,
   "metadata": {},
   "outputs": [],
   "source": [
    "def seq_position_encode(seq):\n",
    "    amino_acids = '#ARNDCQEGHILKMFPSTWYV'\n",
    "    seq = re.sub('[XZUB]',\"\",seq)\n",
    "    t = np.zeros((len(seq), 21))\n",
    "    for i in range(len(seq)):\n",
    "        j = amino_acids.index(seq[i])\n",
    "        if i%2 == 0:\n",
    "            t[i][j] = np.exp(np.sin(i))\n",
    "        if i%2 == 1:\n",
    "            t[i][j] = np.exp(np.cos(i))\n",
    "    return np.sum(t, axis=0)\n",
    "            "
   ]
  },
  {
   "cell_type": "code",
   "execution_count": 3,
   "metadata": {},
   "outputs": [],
   "source": [
    "def load_seq_data(file):\n",
    "    data = np.load(file, allow_pickle=True)\n",
    "    posseqs, negseqs = data['pos'], data['neg']\n",
    "    x_pos = np.ndarray(shape=(len(posseqs),21))\n",
    "    i = 0\n",
    "    for seq in posseqs:\n",
    "        x_pos[i] = seq_position_encode(seq)\n",
    "        i += 1\n",
    "    \n",
    "    x_neg = np.ndarray(shape=(len(negseqs), 21))\n",
    "    i = 0\n",
    "    for seq in negseqs:\n",
    "        x_neg[i] = seq_position_encode(seq)\n",
    "        i += 1\n",
    "        \n",
    "    return x_pos, x_neg"
   ]
  },
  {
   "cell_type": "markdown",
   "metadata": {},
   "source": [
    "# 准备数据"
   ]
  },
  {
   "cell_type": "code",
   "execution_count": 14,
   "metadata": {},
   "outputs": [],
   "source": [
    "# prepare data\n",
    "x_pos_train, x_neg_train = load_seq_data('PDNA_543_train_15.npz')\n",
    "x_pos_test, x_neg_test = load_seq_data('PDNA_543_test_15.npz')\n",
    "\n",
    "x_test = np.concatenate((x_pos_test, x_neg_test))\n",
    "y_test = [0 for _ in range(x_pos_test.shape[0])] + [1 for _ in range(x_neg_test.shape[0])]\n",
    "y_test = keras.utils.to_categorical(y_test, num_classes=2)"
   ]
  },
  {
   "cell_type": "code",
   "execution_count": 29,
   "metadata": {},
   "outputs": [],
   "source": [
    "#x_pos_train = np.tile(x_pos_train, reps=(14,1))\n",
    "x_train = np.concatenate((x_pos_train, x_neg_train))\n",
    "y_train = [0 for _ in range(x_pos_train.shape[0])] + [1 for _ in range(x_neg_train.shape[0])]\n"
   ]
  },
  {
   "cell_type": "code",
   "execution_count": 6,
   "metadata": {},
   "outputs": [
    {
     "name": "stderr",
     "output_type": "stream",
     "text": [
      "Using TensorFlow backend.\n"
     ]
    }
   ],
   "source": [
    "# over-sampling\n",
    "from imblearn.over_sampling import SMOTE\n",
    "\n",
    "sm = SMOTE(random_state=42)\n",
    "x_train, y_train = sm.fit_resample(x_train, y_train) \n",
    "y_train = keras.utils.to_categorical(y_train, num_classes=2)"
   ]
  },
  {
   "cell_type": "code",
   "execution_count": 17,
   "metadata": {},
   "outputs": [],
   "source": [
    "# NearMiss under-sampling\n",
    "from imblearn.under_sampling import NearMiss\n",
    "us = NearMiss()\n",
    "x_train_res, y_train_res = us.fit_resample(x_train, y_train) "
   ]
  },
  {
   "cell_type": "code",
   "execution_count": null,
   "metadata": {},
   "outputs": [],
   "source": [
    "# cluster-under-sampling\n",
    "from imblearn.under_sampling import ClusterCentroids\n",
    "cc = ClusterCentroids(random_state=42)\n",
    "x_train_       res, y_train_res = cc.fit_resample(x_train, y_train)"
   ]
  },
  {
   "cell_type": "code",
   "execution_count": 30,
   "metadata": {},
   "outputs": [
    {
     "name": "stdout",
     "output_type": "stream",
     "text": [
      "Original dataset shape Counter({1: 134995, 0: 9549})\n"
     ]
    }
   ],
   "source": [
    "from collections import Counter\n",
    "print('Original dataset shape %s' % Counter(y_train))\n",
    "print('Resampled dataset shape %s' % Counter(y_train_res))"
   ]
  },
  {
   "cell_type": "markdown",
   "metadata": {},
   "source": [
    "# Training and Testing"
   ]
  },
  {
   "cell_type": "code",
   "execution_count": 18,
   "metadata": {},
   "outputs": [],
   "source": [
    "def DNN_train(x_train, y_train, x_test, y_test, epochs=20, batch_size=100, x_weight=None):\n",
    "    inputs = layers.Input(shape=(21, ))\n",
    "    x = layers.Dense(300, activation='relu')(inputs)\n",
    "    x = layers.Dropout(0.3)(x)\n",
    "    x = layers.Dense(1000, activation=\"relu\")(x)\n",
    "    x = layers.Dropout(0.5)(x)\n",
    "    x = layers.Dense(300, activation='relu')(x)\n",
    "    x = layers.Dropout(0.25)(x)\n",
    "    outputs = layers.Dense(2, activation=\"softmax\")(x)\n",
    "\n",
    "    model = keras.Model(inputs=inputs, outputs=outputs)\n",
    "    # Train\n",
    "    # method 1: weight balancing\n",
    "    model.compile(\"adam\", \"categorical_crossentropy\", metrics=[\"accuracy\"])\n",
    "    \n",
    "    model.summary()\n",
    "\n",
    "    if x_weight == None:\n",
    "        history = model.fit(x_train, y_train, batch_size=batch_size, epochs=epochs, validation_split=0.2)\n",
    "    else:\n",
    "        history = model.fit(x_train, y_train, batch_size=batch_size, epochs=epochs, sample_weight=x_weight,\n",
    "                            validation_split=0.1)\n",
    "        \n",
    "    #plot_history(history)\n",
    "    \n",
    "    prediction = model.predict(x_test)\n",
    "    y_pred = np.argmax(prediction, axis=1)\n",
    "    \n",
    "    return y_pred, history"
   ]
  },
  {
   "cell_type": "markdown",
   "metadata": {},
   "source": [
    "# training and testing"
   ]
  },
  {
   "cell_type": "code",
   "execution_count": 25,
   "metadata": {},
   "outputs": [
    {
     "name": "stdout",
     "output_type": "stream",
     "text": [
      "Model: \"model\"\n",
      "_________________________________________________________________\n",
      "Layer (type)                 Output Shape              Param #   \n",
      "=================================================================\n",
      "input_1 (InputLayer)         [(None, 21)]              0         \n",
      "_________________________________________________________________\n",
      "dense (Dense)                (None, 300)               6600      \n",
      "_________________________________________________________________\n",
      "dropout (Dropout)            (None, 300)               0         \n",
      "_________________________________________________________________\n",
      "dense_1 (Dense)              (None, 1000)              301000    \n",
      "_________________________________________________________________\n",
      "dropout_1 (Dropout)          (None, 1000)              0         \n",
      "_________________________________________________________________\n",
      "dense_2 (Dense)              (None, 300)               300300    \n",
      "_________________________________________________________________\n",
      "dropout_2 (Dropout)          (None, 300)               0         \n",
      "_________________________________________________________________\n",
      "dense_3 (Dense)              (None, 2)                 602       \n",
      "=================================================================\n",
      "Total params: 608,502\n",
      "Trainable params: 608,502\n",
      "Non-trainable params: 0\n",
      "_________________________________________________________________\n",
      "Train on 15278 samples, validate on 3820 samples\n",
      "Epoch 1/50\n",
      "15278/15278 [==============================] - 2s 160us/sample - loss: 0.6298 - accuracy: 0.6571 - val_loss: 0.5580 - val_accuracy: 0.7168\n",
      "Epoch 2/50\n",
      "15278/15278 [==============================] - 2s 133us/sample - loss: 0.5537 - accuracy: 0.7207 - val_loss: 0.5264 - val_accuracy: 0.7406\n",
      "Epoch 3/50\n",
      "15278/15278 [==============================] - 2s 129us/sample - loss: 0.5386 - accuracy: 0.7343 - val_loss: 0.5254 - val_accuracy: 0.7469\n",
      "Epoch 4/50\n",
      "15278/15278 [==============================] - 2s 125us/sample - loss: 0.5237 - accuracy: 0.7441 - val_loss: 0.5224 - val_accuracy: 0.7416\n",
      "Epoch 5/50\n",
      "15278/15278 [==============================] - 2s 128us/sample - loss: 0.5217 - accuracy: 0.7476 - val_loss: 0.5296 - val_accuracy: 0.7390\n",
      "Epoch 6/50\n",
      "15278/15278 [==============================] - 2s 146us/sample - loss: 0.5107 - accuracy: 0.7506 - val_loss: 0.5128 - val_accuracy: 0.7440\n",
      "Epoch 7/50\n",
      "15278/15278 [==============================] - 2s 130us/sample - loss: 0.5080 - accuracy: 0.7572 - val_loss: 0.5222 - val_accuracy: 0.7372\n",
      "Epoch 8/50\n",
      "15278/15278 [==============================] - 2s 124us/sample - loss: 0.5029 - accuracy: 0.7589 - val_loss: 0.5110 - val_accuracy: 0.7471\n",
      "Epoch 9/50\n",
      "15278/15278 [==============================] - 2s 124us/sample - loss: 0.4971 - accuracy: 0.7599 - val_loss: 0.5145 - val_accuracy: 0.7500\n",
      "Epoch 10/50\n",
      "15278/15278 [==============================] - 2s 122us/sample - loss: 0.4951 - accuracy: 0.7614 - val_loss: 0.5126 - val_accuracy: 0.7510\n",
      "Epoch 11/50\n",
      "15278/15278 [==============================] - 2s 126us/sample - loss: 0.4945 - accuracy: 0.7622 - val_loss: 0.5146 - val_accuracy: 0.7450\n",
      "Epoch 12/50\n",
      "15278/15278 [==============================] - 2s 131us/sample - loss: 0.4875 - accuracy: 0.7665 - val_loss: 0.5124 - val_accuracy: 0.7474\n",
      "Epoch 13/50\n",
      "15278/15278 [==============================] - 2s 133us/sample - loss: 0.4860 - accuracy: 0.7661 - val_loss: 0.5144 - val_accuracy: 0.7490\n",
      "Epoch 14/50\n",
      "15278/15278 [==============================] - 2s 124us/sample - loss: 0.4821 - accuracy: 0.7686 - val_loss: 0.5235 - val_accuracy: 0.7448\n",
      "Epoch 15/50\n",
      "15278/15278 [==============================] - 2s 127us/sample - loss: 0.4814 - accuracy: 0.7725 - val_loss: 0.5137 - val_accuracy: 0.7476\n",
      "Epoch 16/50\n",
      "15278/15278 [==============================] - 2s 126us/sample - loss: 0.4802 - accuracy: 0.7708 - val_loss: 0.5208 - val_accuracy: 0.7421\n",
      "Epoch 17/50\n",
      "15278/15278 [==============================] - 2s 126us/sample - loss: 0.4718 - accuracy: 0.7761 - val_loss: 0.5191 - val_accuracy: 0.7424\n",
      "Epoch 18/50\n",
      "15278/15278 [==============================] - 2s 124us/sample - loss: 0.4717 - accuracy: 0.7756 - val_loss: 0.5229 - val_accuracy: 0.7411\n",
      "Epoch 19/50\n",
      "15278/15278 [==============================] - 2s 129us/sample - loss: 0.4715 - accuracy: 0.7786 - val_loss: 0.5232 - val_accuracy: 0.7448\n",
      "Epoch 20/50\n",
      "15278/15278 [==============================] - 2s 126us/sample - loss: 0.4648 - accuracy: 0.7811 - val_loss: 0.5252 - val_accuracy: 0.7476\n",
      "Epoch 21/50\n",
      "15278/15278 [==============================] - 2s 127us/sample - loss: 0.4620 - accuracy: 0.7801 - val_loss: 0.5255 - val_accuracy: 0.7421\n",
      "Epoch 22/50\n",
      "15278/15278 [==============================] - 2s 128us/sample - loss: 0.4582 - accuracy: 0.7816 - val_loss: 0.5373 - val_accuracy: 0.7432\n",
      "Epoch 23/50\n",
      "15278/15278 [==============================] - 2s 137us/sample - loss: 0.4570 - accuracy: 0.7836 - val_loss: 0.5297 - val_accuracy: 0.7421\n",
      "Epoch 24/50\n",
      "15278/15278 [==============================] - 2s 123us/sample - loss: 0.4549 - accuracy: 0.7845 - val_loss: 0.5342 - val_accuracy: 0.7416\n",
      "Epoch 25/50\n",
      "15278/15278 [==============================] - 2s 126us/sample - loss: 0.4535 - accuracy: 0.7844 - val_loss: 0.5309 - val_accuracy: 0.7390\n",
      "Epoch 26/50\n",
      "15278/15278 [==============================] - 2s 126us/sample - loss: 0.4491 - accuracy: 0.7852 - val_loss: 0.5353 - val_accuracy: 0.7314\n",
      "Epoch 27/50\n",
      "15278/15278 [==============================] - 2s 128us/sample - loss: 0.4465 - accuracy: 0.7899 - val_loss: 0.5313 - val_accuracy: 0.7424\n",
      "Epoch 28/50\n",
      "15278/15278 [==============================] - 2s 127us/sample - loss: 0.4423 - accuracy: 0.7917 - val_loss: 0.5406 - val_accuracy: 0.7421\n",
      "Epoch 29/50\n",
      "15278/15278 [==============================] - 2s 126us/sample - loss: 0.4381 - accuracy: 0.7949 - val_loss: 0.5498 - val_accuracy: 0.7432\n",
      "Epoch 30/50\n",
      "15278/15278 [==============================] - 2s 126us/sample - loss: 0.4368 - accuracy: 0.7951 - val_loss: 0.5406 - val_accuracy: 0.7411\n",
      "Epoch 31/50\n",
      "15278/15278 [==============================] - 2s 130us/sample - loss: 0.4313 - accuracy: 0.7940 - val_loss: 0.5488 - val_accuracy: 0.7322\n",
      "Epoch 32/50\n",
      "15278/15278 [==============================] - 2s 127us/sample - loss: 0.4318 - accuracy: 0.7960 - val_loss: 0.5431 - val_accuracy: 0.7374\n",
      "Epoch 33/50\n",
      "15278/15278 [==============================] - 2s 129us/sample - loss: 0.4312 - accuracy: 0.7970 - val_loss: 0.5495 - val_accuracy: 0.7366\n",
      "Epoch 34/50\n",
      "15278/15278 [==============================] - 2s 128us/sample - loss: 0.4274 - accuracy: 0.7978 - val_loss: 0.5566 - val_accuracy: 0.7338\n",
      "Epoch 35/50\n",
      "15278/15278 [==============================] - 2s 129us/sample - loss: 0.4195 - accuracy: 0.8022 - val_loss: 0.5564 - val_accuracy: 0.7377\n",
      "Epoch 36/50\n",
      "15278/15278 [==============================] - 2s 128us/sample - loss: 0.4159 - accuracy: 0.8071 - val_loss: 0.5635 - val_accuracy: 0.7306\n",
      "Epoch 37/50\n",
      "15278/15278 [==============================] - 2s 135us/sample - loss: 0.4181 - accuracy: 0.8042 - val_loss: 0.5669 - val_accuracy: 0.7330\n",
      "Epoch 38/50\n",
      "15278/15278 [==============================] - 2s 133us/sample - loss: 0.4087 - accuracy: 0.8099 - val_loss: 0.5663 - val_accuracy: 0.7251\n",
      "Epoch 39/50\n",
      "15278/15278 [==============================] - 2s 132us/sample - loss: 0.4131 - accuracy: 0.8109 - val_loss: 0.5662 - val_accuracy: 0.7238\n",
      "Epoch 40/50\n",
      "15278/15278 [==============================] - 2s 130us/sample - loss: 0.4053 - accuracy: 0.8119 - val_loss: 0.5688 - val_accuracy: 0.7296\n",
      "Epoch 41/50\n",
      "15278/15278 [==============================] - 2s 132us/sample - loss: 0.4009 - accuracy: 0.8144 - val_loss: 0.6046 - val_accuracy: 0.7298\n",
      "Epoch 42/50\n",
      "15278/15278 [==============================] - 2s 130us/sample - loss: 0.4003 - accuracy: 0.8144 - val_loss: 0.5730 - val_accuracy: 0.7283\n",
      "Epoch 43/50\n",
      "15278/15278 [==============================] - 2s 132us/sample - loss: 0.3961 - accuracy: 0.8167 - val_loss: 0.5814 - val_accuracy: 0.7264\n",
      "Epoch 44/50\n",
      "15278/15278 [==============================] - 2s 142us/sample - loss: 0.3934 - accuracy: 0.8174 - val_loss: 0.5994 - val_accuracy: 0.7246\n",
      "Epoch 45/50\n",
      "15278/15278 [==============================] - 2s 130us/sample - loss: 0.3943 - accuracy: 0.8186 - val_loss: 0.6009 - val_accuracy: 0.7277\n"
     ]
    },
    {
     "name": "stdout",
     "output_type": "stream",
     "text": [
      "Epoch 46/50\n",
      "15278/15278 [==============================] - 2s 124us/sample - loss: 0.3858 - accuracy: 0.8245 - val_loss: 0.6208 - val_accuracy: 0.7293\n",
      "Epoch 47/50\n",
      "15278/15278 [==============================] - 2s 123us/sample - loss: 0.3859 - accuracy: 0.8217 - val_loss: 0.6044 - val_accuracy: 0.7267\n",
      "Epoch 48/50\n",
      "15278/15278 [==============================] - 2s 121us/sample - loss: 0.3848 - accuracy: 0.8235 - val_loss: 0.6446 - val_accuracy: 0.7183\n",
      "Epoch 49/50\n",
      "15278/15278 [==============================] - 2s 120us/sample - loss: 0.3781 - accuracy: 0.8258 - val_loss: 0.6099 - val_accuracy: 0.7202\n",
      "Epoch 50/50\n",
      "15278/15278 [==============================] - 2s 122us/sample - loss: 0.3765 - accuracy: 0.8288 - val_loss: 0.6343 - val_accuracy: 0.7188\n"
     ]
    }
   ],
   "source": [
    "epochs = 50\n",
    "batch_size = 200\n",
    "\n",
    "#y_train = keras.utils.to_categorical(y_train, num_classes=2)\n",
    "y_train_res = keras.utils.to_categorical(y_train_res, num_classes=2)\n",
    "\n",
    "x_train_res, y_train_res = shuffle(x_train_res, y_train_res)\n",
    "K.clear_session()\n",
    "y_pred, history = DNN_train(x_train_res, y_train_res, x_test, y_test, batch_size=batch_size, epochs=epochs)"
   ]
  },
  {
   "cell_type": "markdown",
   "metadata": {},
   "source": [
    "# Metrics"
   ]
  },
  {
   "cell_type": "code",
   "execution_count": 9,
   "metadata": {},
   "outputs": [
    {
     "data": {
      "image/png": "[encoded data removed]",
      "text/plain": [
       "<Figure size 432x288 with 1 Axes>"
      ]
     },
     "metadata": {
      "needs_background": "light"
     },
     "output_type": "display_data"
    },
    {
     "data": {
      "image/png": "[encoded data removed]",
      "text/plain": [
       "<Figure size 432x288 with 1 Axes>"
      ]
     },
     "metadata": {
      "needs_background": "light"
     },
     "output_type": "display_data"
    }
   ],
   "source": [
    "%matplotlib inline\n",
    "plot_history(history)"
   ]
  },
  {
   "cell_type": "code",
   "execution_count": 26,
   "metadata": {},
   "outputs": [
    {
     "name": "stdout",
     "output_type": "stream",
     "text": [
      "cm:  [[  581   153]\n",
      " [11082  2939]]\n",
      "accuracy:  0.23856319891562183\n",
      "MCC:  0.0006235755407892898\n"
     ]
    }
   ],
   "source": [
    "# predict performance\n",
    "y_true = np.argmax(y_test, axis=1)\n",
    "cm = metrics.confusion_matrix(y_true, y_pred)\n",
    "acc = metrics.accuracy_score(y_true, y_pred)\n",
    "mcc = metrics.matthews_corrcoef(y_true, y_pred)\n",
    "print(\"cm: \", cm)\n",
    "print(\"accuracy: \", acc)\n",
    "print(\"MCC: \", mcc)"
   ]
  },
  {
   "cell_type": "code",
   "execution_count": 24,
   "metadata": {},
   "outputs": [
    {
     "data": {
      "text/plain": [
       "array([9549., 9549.], dtype=float32)"
      ]
     },
     "execution_count": 24,
     "metadata": {},
     "output_type": "execute_result"
    }
   ],
   "source": [
    "np.sum(y_train_res,axis=0)"
   ]
  },
  {
   "cell_type": "code",
   "execution_count": 22,
   "metadata": {},
   "outputs": [],
   "source": [
    "y_train_res = keras.utils.to_categorical(y_train_res, num_classes=2)\n"
   ]
  },
  {
   "cell_type": "code",
   "execution_count": null,
   "metadata": {},
   "outputs": [],
   "source": []
  }
 ],
 "metadata": {
  "kernelspec": {
   "display_name": "Python 3",
   "language": "python",
   "name": "python3"
  },
  "language_info": {
   "codemirror_mode": {
    "name": "ipython",
    "version": 3
   },
   "file_extension": ".py",
   "mimetype": "text/x-python",
   "name": "python",
   "nbconvert_exporter": "python",
   "pygments_lexer": "ipython3",
   "version": "3.7.6"
  },
  "toc": {
   "base_numbering": 1,
   "nav_menu": {},
   "number_sections": true,
   "sideBar": true,
   "skip_h1_title": false,
   "title_cell": "Table of Contents",
   "title_sidebar": "Contents",
   "toc_cell": false,
   "toc_position": {},
   "toc_section_display": true,
   "toc_window_display": false
  }
 },
 "nbformat": 4,
 "nbformat_minor": 4
}
