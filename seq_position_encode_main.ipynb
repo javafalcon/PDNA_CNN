{
 "cells": [
  {
   "cell_type": "code",
   "execution_count": 1,
   "metadata": {},
   "outputs": [],
   "source": [
    "import numpy as np"
   ]
  },
  {
   "cell_type": "code",
   "execution_count": 26,
   "metadata": {},
   "outputs": [],
   "source": [
    "import re\n",
    "def seq_position_encode(seq):\n",
    "    amino_acids = '#ARNDCQEGHILKMFPSTWYV'\n",
    "    seq = re.sub('[XZUB]',\"\",seq)\n",
    "    t = np.zeros((len(seq), 21))\n",
    "    for i in range(len(seq)):\n",
    "        j = amino_acids.index(seq[i])\n",
    "        if i%2 == 0:\n",
    "            t[i][j] = np.exp(np.sin(i))\n",
    "        if i%2 == 1:\n",
    "            t[i][j] = np.exp(np.cos(i))\n",
    "    return np.sum(t, axis=0)\n",
    "            "
   ]
  },
  {
   "cell_type": "code",
   "execution_count": null,
   "metadata": {},
   "outputs": [],
   "source": [
    "def load_seq_data(file):\n",
    "    data = np.load(file, allow_pickle=True)\n",
    "    posseqs, negseqs = data['pos'], data['neg']"
   ]
  },
  {
   "cell_type": "code",
   "execution_count": 27,
   "metadata": {},
   "outputs": [
    {
     "name": "stdout",
     "output_type": "stream",
     "text": [
      "[0.         0.84074366 0.         1.32798424 0.         0.\n",
      " 0.         0.         0.         0.         0.         2.48257773\n",
      " 1.7165257  1.         0.         0.75622563 0.         0.\n",
      " 0.         0.         0.        ]\n"
     ]
    }
   ],
   "source": [
    "seq1 = 'MKLAANP'\n",
    "x1 = seq_position_encode(seq1)\n",
    "print(x1)"
   ]
  },
  {
   "cell_type": "code",
   "execution_count": 28,
   "metadata": {},
   "outputs": [
    {
     "name": "stdout",
     "output_type": "stream",
     "text": [
      "[0.         2.85415721 0.         0.46916419 0.         0.\n",
      " 0.         0.         0.         0.         0.         1.7165257\n",
      " 1.         0.75622563 0.         1.32798424 0.         0.\n",
      " 0.         0.         0.        ]\n"
     ]
    }
   ],
   "source": [
    "seq2 = 'KLAANPM'\n",
    "x2 = seq_position_encode(seq2)\n",
    "print(x2)"
   ]
  },
  {
   "cell_type": "code",
   "execution_count": 17,
   "metadata": {},
   "outputs": [],
   "source": [
    "positions = np.arange(-7,8)"
   ]
  },
  {
   "cell_type": "code",
   "execution_count": 19,
   "metadata": {},
   "outputs": [],
   "source": [
    "pos = [np.sin(i) if i%2==0 else np.cos(i) for i in range(-7,8)]"
   ]
  },
  {
   "cell_type": "code",
   "execution_count": 20,
   "metadata": {},
   "outputs": [
    {
     "data": {
      "text/plain": [
       "Text(0, 0.5, 'pos_emb')"
      ]
     },
     "execution_count": 20,
     "metadata": {},
     "output_type": "execute_result"
    },
    {
     "data": {
      "image/png": "[encoded data removed]",
      "text/plain": [
       "<Figure size 432x288 with 1 Axes>"
      ]
     },
     "metadata": {
      "needs_background": "light"
     },
     "output_type": "display_data"
    }
   ],
   "source": [
    "import matplotlib.pyplot as plt\n",
    "%matplotlib inline \n",
    "plt.plot(positions, pos)\n",
    "plt.xlabel('position')\n",
    "plt.ylabel('pos_emb')"
   ]
  },
  {
   "cell_type": "code",
   "execution_count": 6,
   "metadata": {},
   "outputs": [
    {
     "data": {
      "text/plain": [
       "[0.9092974268256817,\n",
       " -0.7568024953079282,\n",
       " -0.27941549819892586,\n",
       " 0.9893582466233818,\n",
       " -0.5440211108893698,\n",
       " -0.5365729180004349,\n",
       " 0.9906073556948704]"
      ]
     },
     "execution_count": 6,
     "metadata": {},
     "output_type": "execute_result"
    }
   ],
   "source": [
    "pos[1::2]"
   ]
  },
  {
   "cell_type": "code",
   "execution_count": 7,
   "metadata": {},
   "outputs": [
    {
     "data": {
      "text/plain": [
       "[0.5403023058681398,\n",
       " 0.9092974268256817,\n",
       " -0.9899924966004454,\n",
       " -0.7568024953079282,\n",
       " 0.28366218546322625,\n",
       " -0.27941549819892586,\n",
       " 0.7539022543433046,\n",
       " 0.9893582466233818,\n",
       " -0.9111302618846769,\n",
       " -0.5440211108893698,\n",
       " 0.004425697988050785,\n",
       " -0.5365729180004349,\n",
       " 0.9074467814501962,\n",
       " 0.9906073556948704,\n",
       " -0.7596879128588213]"
      ]
     },
     "execution_count": 7,
     "metadata": {},
     "output_type": "execute_result"
    }
   ],
   "source": [
    "pos"
   ]
  },
  {
   "cell_type": "code",
   "execution_count": null,
   "metadata": {},
   "outputs": [],
   "source": []
  }
 ],
 "metadata": {
  "kernelspec": {
   "display_name": "Python 3",
   "language": "python",
   "name": "python3"
  },
  "language_info": {
   "codemirror_mode": {
    "name": "ipython",
    "version": 3
   },
   "file_extension": ".py",
   "mimetype": "text/x-python",
   "name": "python",
   "nbconvert_exporter": "python",
   "pygments_lexer": "ipython3",
   "version": "3.8.3"
  }
 },
 "nbformat": 4,
 "nbformat_minor": 4
}
