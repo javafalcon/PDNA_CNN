{
 "cells": [
  {
   "cell_type": "markdown",
   "metadata": {},
   "source": [
    "# 导入包、定义函数"
   ]
  },
  {
   "cell_type": "code",
   "execution_count": null,
   "metadata": {},
   "outputs": [],
   "source": [
    "import numpy as np\n",
    "import re\n",
    "import tensorflow as tf\n",
    "from tensorflow import keras\n",
    "from tensorflow.keras import backend as K\n",
    "from tensorflow.keras import layers\n",
    "from sklearn.utils import shuffle\n",
    "from sklearn import metrics\n",
    "from sites_transformer import Encoder, create_padding_mask\n",
    "from tools import plot_history"
   ]
  },
  {
   "cell_type": "code",
   "execution_count": null,
   "metadata": {},
   "outputs": [],
   "source": [
    "def seq_position_encode(seq):\n",
    "    amino_acids = '#ARNDCQEGHILKMFPSTWYV'\n",
    "    seq = re.sub('[XZUB]',\"\",seq)\n",
    "    t = np.zeros((len(seq), 21))\n",
    "    for i in range(len(seq)):\n",
    "        j = amino_acids.index(seq[i])\n",
    "        if i%2 == 0:\n",
    "            t[i][j] = np.exp(np.sin(i))\n",
    "        if i%2 == 1:\n",
    "            t[i][j] = np.exp(np.cos(i))\n",
    "    return np.sum(t, axis=0)\n",
    "            "
   ]
  },
  {
   "cell_type": "code",
   "execution_count": null,
   "metadata": {},
   "outputs": [],
   "source": [
    "def load_seq_data(file):\n",
    "    data = np.load(file, allow_pickle=True)\n",
    "    posseqs, negseqs = data['pos'], data['neg']\n",
    "    x_pos = np.ndarray(shape=(len(posseqs),21))\n",
    "    i = 0\n",
    "    for seq in posseqs:\n",
    "        x_pos[i] = seq_position_encode(seq)\n",
    "        i += 1\n",
    "    \n",
    "    x_neg = np.ndarray(shape=(len(negseqs), 21))\n",
    "    i = 0\n",
    "    for seq in negseqs:\n",
    "        x_neg[i] = seq_position_encode(seq)\n",
    "        i += 1\n",
    "        \n",
    "    return x_pos, x_neg"
   ]
  },
  {
   "cell_type": "markdown",
   "metadata": {},
   "source": [
    "# 准备数据"
   ]
  },
  {
   "cell_type": "code",
   "execution_count": null,
   "metadata": {},
   "outputs": [],
   "source": [
    "# prepare data\n",
    "x_pos_train, x_neg_train = load_seq_data('PDNA_543_train_15.npz')\n",
    "x_pos_test, x_neg_test = load_seq_data('PDNA_543_test_15.npz')\n",
    "\n",
    "x_test = np.concatenate((x_pos_test, x_neg_test))\n",
    "y_test = [0 for _ in range(x_pos_test.shape[0])] + [1 for _ in range(x_neg_test.shape[0])]\n",
    "y_test = keras.utils.to_categorical(y_test, num_classes=2)"
   ]
  },
  {
   "cell_type": "code",
   "execution_count": null,
   "metadata": {},
   "outputs": [],
   "source": [
    "#x_pos_train = np.tile(x_pos_train, reps=(14,1))\n",
    "x_train = np.concatenate((x_pos_train, x_neg_train))\n",
    "y_train = [0 for _ in range(x_pos_train.shape[0])] + [1 for _ in range(x_neg_train.shape[0])]\n"
   ]
  },
  {
   "cell_type": "code",
   "execution_count": null,
   "metadata": {},
   "outputs": [],
   "source": [
    "# over-sampling\n",
    "from imblearn.over_sampling import SMOTE\n",
    "\n",
    "sm = SMOTE(random_state=42)\n",
    "x_train, y_train = sm.fit_resample(x_train, y_train) \n",
    "y_train = keras.utils.to_categorical(y_train, num_classes=2)"
   ]
  },
  {
   "cell_type": "markdown",
   "metadata": {},
   "source": [
    "# Training and Testing"
   ]
  },
  {
   "cell_type": "code",
   "execution_count": null,
   "metadata": {},
   "outputs": [],
   "source": [
    "def DNN_train(x_train, y_train, x_test, y_test, epochs=20, batch_size=100, x_weight=None):\n",
    "    inputs = layers.Input(shape=(21, ))\n",
    "    x = layers.Dense(300, activation='relu')(inputs)\n",
    "    x = layers.Dropout(0.3)(x)\n",
    "    x = layers.Dense(1000, activation=\"relu\")(x)\n",
    "    x = layers.Dropout(0.5)(x)\n",
    "    x = layers.Dense(300, activation='relu')(x)\n",
    "    x = layers.Dropout(0.25)(x)\n",
    "    outputs = layers.Dense(2, activation=\"softmax\")(x)\n",
    "\n",
    "    model = keras.Model(inputs=inputs, outputs=outputs)\n",
    "    # Train\n",
    "    # method 1: weight balancing\n",
    "    model.compile(\"adam\", \"categorical_crossentropy\", metrics=[\"accuracy\"])\n",
    "    \n",
    "    model.summary()\n",
    "\n",
    "    if x_weight == None:\n",
    "        history = model.fit(x_train, y_train, batch_size=batch_size, epochs=epochs, validation_split=0.2)\n",
    "    else:\n",
    "        history = model.fit(x_train, y_train, batch_size=batch_size, epochs=epochs, sample_weight=x_weight,\n",
    "                            validation_split=0.1)\n",
    "        \n",
    "    #plot_history(history)\n",
    "    \n",
    "    prediction = model.predict(x_test)\n",
    "    y_pred = np.argmax(prediction, axis=1)\n",
    "    \n",
    "    return y_pred, history"
   ]
  },
  {
   "cell_type": "markdown",
   "metadata": {},
   "source": [
    "# training and testing"
   ]
  },
  {
   "cell_type": "code",
   "execution_count": null,
   "metadata": {},
   "outputs": [],
   "source": [
    "epochs = 50\n",
    "batch_size = 200\n",
    "x_train, y_train = shuffle(x_train, y_train)\n",
    "K.clear_session()\n",
    "y_pred, history = DNN_train(x_train, y_train, x_test, y_test, batch_size=batch_size, epochs=epochs)"
   ]
  },
  {
   "cell_type": "markdown",
   "metadata": {},
   "source": [
    "# Metrics"
   ]
  },
  {
   "cell_type": "code",
   "execution_count": null,
   "metadata": {},
   "outputs": [],
   "source": [
    "%matplotlib inline\n",
    "plot_history(history)"
   ]
  },
  {
   "cell_type": "code",
   "execution_count": null,
   "metadata": {},
   "outputs": [],
   "source": [
    "# predict performance\n",
    "y_true = np.argmax(y_test, axis=1)\n",
    "cm = metrics.confusion_matrix(y_true, y_pred)\n",
    "acc = metrics.accuracy_score(y_true, y_pred)\n",
    "mcc = metrics.matthews_corrcoef(y_true, y_pred)\n",
    "print(\"cm: \", cm)\n",
    "print(\"accuracy: \", acc)\n",
    "print(\"MCC: \", mcc)"
   ]
  },
  {
   "cell_type": "code",
   "execution_count": null,
   "metadata": {},
   "outputs": [],
   "source": []
  }
 ],
 "metadata": {
  "kernelspec": {
   "display_name": "Python 3",
   "language": "python",
   "name": "python3"
  },
  "language_info": {
   "codemirror_mode": {
    "name": "ipython",
    "version": 3
   },
   "file_extension": ".py",
   "mimetype": "text/x-python",
   "name": "python",
   "nbconvert_exporter": "python",
   "pygments_lexer": "ipython3",
   "version": "3.7.6"
  },
  "toc": {
   "base_numbering": 1,
   "nav_menu": {},
   "number_sections": true,
   "sideBar": true,
   "skip_h1_title": false,
   "title_cell": "Table of Contents",
   "title_sidebar": "Contents",
   "toc_cell": false,
   "toc_position": {},
   "toc_section_display": true,
   "toc_window_display": false
  }
 },
 "nbformat": 4,
 "nbformat_minor": 4
}
